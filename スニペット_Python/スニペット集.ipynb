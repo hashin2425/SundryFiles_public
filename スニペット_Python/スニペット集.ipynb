{
 "cells": [
  {
   "cell_type": "markdown",
   "metadata": {},
   "source": [
    "# スニペット集\n",
    "\n",
    "## ファイルが存在するかを確認する\n"
   ]
  },
  {
   "cell_type": "code",
   "execution_count": null,
   "metadata": {},
   "outputs": [],
   "source": [
    "import os\n",
    "\n",
    "os.path.isfile('./hoge.txt')\n"
   ]
  },
  {
   "cell_type": "markdown",
   "metadata": {},
   "source": [
    "## ファイルを削除する\n"
   ]
  },
  {
   "cell_type": "code",
   "execution_count": null,
   "metadata": {},
   "outputs": [],
   "source": [
    "# pip install send2trash\n",
    "\n",
    "#  ごみ箱に送る\n",
    "import os\n",
    "from send2trash import send2trash\n",
    "send2trash(\"./hoge.txt\")\n",
    "\n",
    "# 完全に削除する\n",
    "os.remove('./huga.txt')\n"
   ]
  },
  {
   "cell_type": "markdown",
   "metadata": {},
   "source": [
    "## 多重ネストの進捗を表示させる\n"
   ]
  },
  {
   "cell_type": "code",
   "execution_count": 2,
   "metadata": {},
   "outputs": [
    {
     "name": "stderr",
     "output_type": "stream",
     "text": [
      "100%|██████████| 10/10 [00:03<00:00,  3.20it/s]\n"
     ]
    }
   ],
   "source": [
    "from tqdm.notebook import tqdm\n",
    "from time import sleep\n",
    "\n",
    "for i in tqdm(range(10)):\n",
    "    for u in tqdm(range(20), leave=False):\n",
    "        sleep(0.01)\n"
   ]
  },
  {
   "cell_type": "markdown",
   "metadata": {},
   "source": [
    "## DataFrame のカラム名を変更する\n"
   ]
  },
  {
   "cell_type": "code",
   "execution_count": null,
   "metadata": {},
   "outputs": [],
   "source": [
    "import pandas as pd\n",
    "\n",
    "raw_df = pd.read_csv(\"hoge.csv\")  # 何かしらのデータを読み込んだとする\n",
    "\n",
    "# 指定した行名列名を変更したい\n",
    "new_df1 = raw_df.rename(columns={'売上': 'sales'}, index={'一月': 'Jan'})\n",
    "\n",
    "# 一括で変更したい\n",
    "new_df2 = raw_df\n",
    "new_df2.columns = ['売上', '営業利益', '経常利益', '最終利益']\n"
   ]
  },
  {
   "cell_type": "markdown",
   "metadata": {},
   "source": [
    "## DataFrame で行 → インデックス・列 → カラム名で参照する\n"
   ]
  },
  {
   "cell_type": "code",
   "execution_count": null,
   "metadata": {},
   "outputs": [],
   "source": [
    "import pandas as pd\n",
    "\n",
    "df = pd.read_csv(\"hoge.csv\")  # 何かしらのデータを読み込んだとする\n",
    "\n",
    "# 2022年2月4日の売上金額を取得したい\n",
    "val = df.loc[df.date == \"2022-02-04\", \"売上\"]\n",
    "\n",
    "# ちなみにこっちでも同じことができるが、警告が出る\n",
    "val = df[\"売上\"].loc[df.date == \"2022-02-04\"]\n"
   ]
  },
  {
   "cell_type": "markdown",
   "metadata": {},
   "source": [
    "## ローマ字/かな変換をする\n"
   ]
  },
  {
   "cell_type": "code",
   "execution_count": null,
   "metadata": {},
   "outputs": [],
   "source": [
    "# !pip install pykakasi\n",
    "import pykakasi\n",
    "\n",
    "# 推奨\n",
    "k = pykakasi.kakasi()\n",
    "k.convert(\"今日は晴れ\")\n",
    "\n",
    "# [{'orig': '今日は',\n",
    "#   'hira': 'こんにちは',\n",
    "#   'kana': 'コンニチハ',\n",
    "#   'hepburn': 'konnichiha',\n",
    "#   'kunrei': 'konnitiha',\n",
    "#   'passport': 'konnichiha'},\n",
    "#  {'orig': '晴れ',\n",
    "#   'hira': 'はれ',\n",
    "#   'kana': 'ハレ',\n",
    "#   'hepburn': 'hare',\n",
    "#   'kunrei': 'hare',\n",
    "#   'passport': 'hare'}]\n",
    "\n",
    "# これは古いバージョン\n",
    "# kakasi = pykakasi.kakasi()  # インスタンスの作成\n",
    "# kakasi.setMode('H', 'a')  # ひらがなをローマ字に変換するように設定\n",
    "# kakasi.setMode('K', 'a')  # カタカナをローマ字に変換するように設定\n",
    "# kakasi.setMode('J', 'a')  # 漢字をローマ字に変換するように設定\n",
    "# conversion = kakasi.getConverter()  # 上記モード設定の適用\n",
    "# print(conversion.do(\"ほげほげ\").capitalize())  # -> hogehoge\n"
   ]
  },
  {
   "cell_type": "markdown",
   "metadata": {},
   "source": [
    "## 大量のファイルパスをリストで取得する\n"
   ]
  },
  {
   "cell_type": "code",
   "execution_count": null,
   "metadata": {},
   "outputs": [],
   "source": [
    "from glob import glob\n",
    "\n",
    "# 「Samples」ファイルにあるCSVファイルを一括パス取得したいとき\n",
    "pathlist = glob(\"/~パス中略~/Samples/*.csv\")\n"
   ]
  },
  {
   "cell_type": "markdown",
   "metadata": {},
   "source": [
    "## キャッシュしながら Pandas_Datareader をつかう\n"
   ]
  },
  {
   "cell_type": "code",
   "execution_count": null,
   "metadata": {},
   "outputs": [],
   "source": [
    "import pandas_datareader as pdr\n",
    "from requests_cache import CachedSession\n",
    "from datetime import timedelta\n",
    "\n",
    "session = CachedSession(cache_name=\"cache\", backend=\"sqlite3\", expire_after=timedelta(days=5))\n",
    "session.headers = {\n",
    "    'User-Agent': 'Mozilla/5.0 (X11; Ubuntu; Linux x86_64; rv:89.0) Gecko/20100101 Firefox/89.0',\n",
    "    'Accept': 'application/json;charset=utf-8'\n",
    "}\n",
    "df = pdr.DataReader(\"1301.JP\", \"stooq\", \"1960-01-05\", \"2022-01-29\", session=session)\n"
   ]
  },
  {
   "cell_type": "markdown",
   "metadata": {},
   "source": [
    "## Pickle でインスタンス保存/読込\n"
   ]
  },
  {
   "cell_type": "code",
   "execution_count": null,
   "metadata": {},
   "outputs": [],
   "source": [
    "import pickle\n",
    "\n",
    "\n",
    "def save_as_pickle(path: str, object: object, protocol=5) -> None:\n",
    "    with open(path, mode=\"wb\") as f:\n",
    "        pickle.dump(object, f, protocol=protocol)\n",
    "\n",
    "\n",
    "def load_from_pickle(path: str) -> object:\n",
    "    with open(path, mode='rb') as f:\n",
    "        return pickle.load(f)\n"
   ]
  },
  {
   "cell_type": "markdown",
   "metadata": {},
   "source": [
    "## 文字列のフォーマット\n"
   ]
  },
  {
   "cell_type": "code",
   "execution_count": null,
   "metadata": {},
   "outputs": [],
   "source": [
    "val = 1023.45678\n",
    "\n",
    "# f文字列で出力させる(Python3.6以降)\n",
    "print(f\"This value is {val}.\")\n",
    "# => This value is 1023.45678.\n",
    "\n",
    "# カンマで桁区切りしたい場合はコロンの後にコンマを入れる\n",
    "# 小数点をn桁で切り捨てたい場合はコロンの後に.nfみたく入れる\n",
    "print(\"This value is {:,.2f}.\".format(val))\n",
    "# => This value is 1,023.46.\n"
   ]
  },
  {
   "cell_type": "markdown",
   "metadata": {},
   "source": [
    "## numpy よく使う関数\n"
   ]
  },
  {
   "cell_type": "code",
   "execution_count": null,
   "metadata": {},
   "outputs": [],
   "source": [
    "import numpy as np\n",
    "\n",
    "np.array([1, 2, 3])  # ListをndArrayに変換する\n",
    "# array([1, 2, 3])\n",
    "\n",
    "# 数列生成\n",
    "np.arange(0, 10, 1)  # 初項0、末項10、公差1の等差数列をつくる\n",
    "# array([0, 1, 2, 3, 4, 5, 6, 7, 8, 9])\n",
    "\n",
    "np.geomspace(1, 10, 5)  # 初項1、末項10、項数5の等比数列をつくる\n",
    "# array([1., 1.77827941, 3.16227766, 5.62341325, 10.])\n",
    "\n",
    "np.empty(10)  # 空の配列を作る\n",
    "# array([0., 0., 0., 0., 0., 0., 0., 0., 0., 0.])\n",
    "\n",
    "np.zeros(10)  # すべてゼロの配列を作る\n",
    "# array([0., 0., 0., 0., 0., 0., 0., 0., 0., 0.])\n",
    "\n",
    "np.ones(10)  # すべて1の配列を作る\n",
    "# array([1., 1., 1., 1., 1., 1., 1., 1., 1., 1.])\n",
    "\n",
    "np.zeros_like([1, 0, -1])  # 他の配列と同じ形で任意の配列を作る\n",
    "# array([0, 0, 0])\n",
    "\n",
    "hoge = np.random.rand(10)  # 何かしらの配列を正規化したい\n",
    "\n",
    "# 最大値が1に、最小値が-1になるようにする\n",
    "print(hoge - hoge.min()) / (hoge.max() - hoge.min()) * (hoge / np.abs(hoge))\n",
    "\n",
    "# 最大値が1に、最小値が0になるようにする\n",
    "print((hoge - hoge.min()) / (hoge.max() - hoge.min()))\n"
   ]
  },
  {
   "cell_type": "markdown",
   "metadata": {},
   "source": [
    "## プロファイリングする\n"
   ]
  },
  {
   "cell_type": "code",
   "execution_count": null,
   "metadata": {},
   "outputs": [],
   "source": [
    "from line_profiler import LineProfiler\n",
    "\n",
    "\n",
    "def main():\n",
    "    for i in range(10000):\n",
    "        pass  # 何かしらの処理をまわす\n",
    "\n",
    "\n",
    "pr = LineProfiler()\n",
    "pr.add_function(main)\n",
    "pr.runcall(main)\n",
    "pr.print_stats()\n"
   ]
  },
  {
   "cell_type": "markdown",
   "metadata": {},
   "source": [
    "## warning をすべて無視する\n"
   ]
  },
  {
   "cell_type": "code",
   "execution_count": null,
   "metadata": {},
   "outputs": [],
   "source": [
    "import warnings\n",
    "\n",
    "warnings.simplefilter('ignore')  # すべての警告を非表示にする\n",
    "warnings.simplefilter('error')  # すべての警告を例外とする\n",
    "warnings.resetwarnings()  # warningの設定をリセットする\n"
   ]
  },
  {
   "cell_type": "markdown",
   "metadata": {},
   "source": [
    "## OS 情報を取得する\n"
   ]
  },
  {
   "cell_type": "code",
   "execution_count": null,
   "metadata": {},
   "outputs": [],
   "source": [
    "import platform\n",
    "platform.system()\n",
    "# 'Windows'\n",
    "platform.version()\n",
    "# '10.0.19041'\n",
    "platform.platform()\n",
    "# 'Windows-10-10.0.19041-SP0'\n"
   ]
  },
  {
   "cell_type": "markdown",
   "metadata": {},
   "source": [
    "## CPU の型番を取得する\n"
   ]
  },
  {
   "cell_type": "code",
   "execution_count": null,
   "metadata": {},
   "outputs": [],
   "source": [
    "# !pip install py-cpuinfo\n",
    "import cpuinfo\n",
    "print(cpuinfo.get_cpu_info())\n",
    "# 出力結果は省略。CPUの諸情報がdict形式で返される。\n",
    "print(cpuinfo.get_cpu_info()[\"brand_raw\"])\n",
    "# 11th Gen Intel(R) Core(TM) i5-11400F @ 2.60GHz\n",
    "print(cpuinfo.get_cpu_info()[\"family\"])\n",
    "# 6\n",
    "print(cpuinfo.get_cpu_info()[\"hz_actual_friendly\"])\n",
    "# 2.5920 GHz\n"
   ]
  },
  {
   "cell_type": "markdown",
   "metadata": {},
   "source": [
    "## Requests & BeautifulSoup でスクレイピング\n"
   ]
  },
  {
   "cell_type": "code",
   "execution_count": null,
   "metadata": {},
   "outputs": [],
   "source": [
    "import requests\n",
    "from bs4 import BeautifulSoup\n",
    "\n",
    "user_agent = '~ユーザーエージェント~'\n",
    "header = {'User-Agent': user_agent}\n",
    "session = requests.session()\n",
    "\n",
    "res = session.get('https://example.com/', headers=header)\n",
    "\n",
    "soup = BeautifulSoup(res.text, 'html.parser')\n",
    "title = soup.select_one(\"body > div:nth-child(1) > h1\")\n",
    "print(title.text)  # -> Example Domain\n"
   ]
  },
  {
   "cell_type": "markdown",
   "metadata": {},
   "source": [
    "## Zip ファイルの中にある txt ファイルなどを読み込む\n"
   ]
  },
  {
   "cell_type": "code",
   "execution_count": null,
   "metadata": {},
   "outputs": [],
   "source": [
    "import pandas as pd\n",
    "import zipfile\n",
    "zip_file = \"hoge.zip\"\n",
    "\n",
    "with zipfile.ZipFile(zip_file) as _myzip:\n",
    "    for file in _myzip.filelist:  # .filelistでZip内のファイル一覧を取得する\n",
    "        with _myzip.open(file) as _myfile:  # openを利用してファイルにアクセス\n",
    "            print(len(_myfile.read()))  # この場合はreadで読み込みを行った\n",
    "\n",
    "# Zipに含まれるCSVファイルをPandasから読み込む\n",
    "zp = zipfile.ZipFile(zip_file)\n",
    "pd.read_csv(zp.open(\"hoge.csv\"))\n"
   ]
  },
  {
   "cell_type": "markdown",
   "metadata": {},
   "source": [
    "## Windows をスリープ/休止状態にする\n"
   ]
  },
  {
   "cell_type": "code",
   "execution_count": null,
   "metadata": {},
   "outputs": [],
   "source": [
    "import ctypes\n",
    "\n",
    "\"\"\"\n",
    "# スリープ\n",
    "ctypes.windll.PowrProf.SetSuspendState(0, 1, 0)\n",
    "\n",
    "# 休止状態\n",
    "ctypes.windll.PowrProf.SetSuspendState(1, 1, 0)\n",
    "\"\"\"\n"
   ]
  },
  {
   "cell_type": "markdown",
   "metadata": {},
   "source": [
    "## Windows に通知を送る\n"
   ]
  },
  {
   "cell_type": "code",
   "execution_count": null,
   "metadata": {},
   "outputs": [],
   "source": [
    "# pip install plyer\n",
    "from plyer import notification\n",
    "\n",
    "notification.notify(\n",
    "    title=\"ここにタイトルを書く\",\n",
    "    message=\"ここにメッセージを書く\",\n",
    "    timeout=10\n",
    ")\n"
   ]
  },
  {
   "cell_type": "markdown",
   "metadata": {},
   "source": [
    "## Google Colaboratory でドライブにアクセスする\n",
    "\n",
    "Google ドライブの hoge というファイルの中にある huga.db を読み込みたいときは以下のようにする。初回実行時、ドライブへのアクセス承認を求められる。\n"
   ]
  },
  {
   "cell_type": "code",
   "execution_count": null,
   "metadata": {},
   "outputs": [],
   "source": [
    "from google.colab import drive\n",
    "import sqlite3\n",
    "base = drive.mount(\"/content/drive\")\n",
    "\n",
    "path = \"/content/drive/MyDrive/hoge/huga.db\"\n",
    "\n",
    "conn = sqlite3.connect(path)\n"
   ]
  },
  {
   "cell_type": "markdown",
   "metadata": {},
   "source": [
    "## Matplotlib で一枚のイメージに複数のグラフを貼り付ける\n"
   ]
  },
  {
   "cell_type": "code",
   "execution_count": null,
   "metadata": {},
   "outputs": [],
   "source": [
    "import pandas as pd\n",
    "from matplotlib import pyplot as plt\n",
    "import numpy as np\n",
    "\n",
    "fig = plt.figure(figsize=(8, 4))  # イメージの大きさを指定\n",
    "\n",
    "x1 = np.random.uniform(0, 100, 20)\n",
    "y1 = x1 * np.random.uniform(1, 2, 20)\n",
    "\n",
    "ax1 = fig.add_subplot(1, 2, 1)  # 引数は、縦に何分割、横に何分割、何枚目の画像を指定するか\n",
    "ax1.scatter(x1, y1)\n",
    "ax1.set_xlabel(\"weight [g]\")\n",
    "ax1.set_ylabel(\"length [cm]\")\n",
    "ax1.set_xlim(0, 110)\n",
    "ax1.set_ylim(0, 190)\n",
    "\n",
    "# bottom\n",
    "x2 = np.array(['S1', 'S2', 'S1', 'S2', 'S4'])\n",
    "y2 = np.array([12.0, 3.1, 11.8, 2.9, 6.2])\n",
    "x2_position = np.arange(len(x2))\n",
    "\n",
    "ax2 = fig.add_subplot(1, 2, 2)\n",
    "ax2.bar(x2_position, y2, tick_label=x2)\n",
    "ax2.set_xlabel(\"samples\")\n",
    "ax2.set_ylabel(\"values\")\n",
    "\n",
    "# show plots\n",
    "fig.tight_layout()  # サブプロット間の間隔を調整する\n",
    "fig.show()\n"
   ]
  },
  {
   "cell_type": "markdown",
   "metadata": {},
   "source": [
    "## Json を読み込む\n"
   ]
  },
  {
   "cell_type": "code",
   "execution_count": null,
   "metadata": {},
   "outputs": [],
   "source": [
    "import json\n",
    "\n",
    "json_file = \"\"\"\n",
    "{\n",
    "    \"section1\":{\n",
    "        \"key\":\"key1\",\n",
    "        \"number\": 1\n",
    "    },\n",
    "\n",
    "    \"section2\":{\n",
    "        \"key\":\"key2\",\n",
    "        \"number\": 2\n",
    "    }\n",
    "}\n",
    "\"\"\"\n",
    "\n",
    "setting = json.load(open(\"hoge.json\", \"r\"))\n",
    "\n",
    "print(setting[\"section1\"][\"number\"])\n"
   ]
  },
  {
   "cell_type": "markdown",
   "metadata": {},
   "source": [
    "## Json に書き込む\n"
   ]
  },
  {
   "cell_type": "code",
   "execution_count": null,
   "metadata": {},
   "outputs": [],
   "source": [
    "import json\n",
    "\n",
    "dict_ = dict([[\"item\", \"apple\"], [\"price\", 120]])\n",
    "\n",
    "with open(\"./hoge.json\", mode=\"w\") as f:\n",
    "    json.dump(dict_, f, indent=2)\n"
   ]
  },
  {
   "cell_type": "markdown",
   "metadata": {},
   "source": [
    "## ファイルのコピー\n"
   ]
  },
  {
   "cell_type": "code",
   "execution_count": null,
   "metadata": {},
   "outputs": [],
   "source": [
    "import shutil\n",
    "\n",
    "shutil.copyfile(\"./hoge.txt\", \"./huga/hoge.txt\")  # ファイルのデータをコピーしますが、パーミッションやメタデータはコピーしません。\n",
    "shutil.copy(\"./hoge.txt\", \"./huga/\")  # ファイルのデータとパーミッションもコピーします。\n",
    "shutil.copy2(\"./hoge.txt\", \"./huga/\")  # ファイルのデータとパーミッションに加え、ファイルの作成時間や変更時間などのメタデータもコピーします。\n"
   ]
  },
  {
   "cell_type": "markdown",
   "metadata": {},
   "source": [
    "## Str を n 文字以下に丸める\n"
   ]
  },
  {
   "cell_type": "code",
   "execution_count": null,
   "metadata": {},
   "outputs": [],
   "source": [
    "text = \"hoge\"\n",
    "\n",
    "# 単にスライスを使えばいい\n",
    "shorten_text = text[:50]  # 50文字\"以下\"に収めてくれる\n",
    "\n",
    "print(shorten_text)\n"
   ]
  },
  {
   "cell_type": "markdown",
   "metadata": {},
   "source": [
    "## テキストファイルを書き込む/読み込む\n",
    "\n",
    "| mode | 意味                                                       |\n",
    "| ---- | ---------------------------------------------------------- |\n",
    "| r    | 既に存在するファイルを読み込む（ファイルが無ければエラー） |\n",
    "| w    | ファイルに書き込む（既に有れば、まず内容が消される）       |\n",
    "| x    | ファイルに書き込む（既に有ればエラー）                     |\n",
    "| a    | ファイルに追記（既存の内容はそのまま）                     |\n"
   ]
  },
  {
   "cell_type": "code",
   "execution_count": null,
   "metadata": {},
   "outputs": [],
   "source": [
    "with open(\"hoge.txt\", mode=\"w\") as f:\n",
    "    f.write(\"文字列を書き込む\")\n",
    "    f.writelines(\"リストを書き込み\")\n"
   ]
  },
  {
   "cell_type": "markdown",
   "metadata": {},
   "source": [
    "## 表をインデックスに合わせながら結合する\n"
   ]
  },
  {
   "cell_type": "code",
   "execution_count": null,
   "metadata": {},
   "outputs": [],
   "source": [
    "import pandas as pd\n",
    "\n",
    "df1 = pd.DataFrame([\n",
    "    [1, \"11\", \"111\"],\n",
    "    [2, \"22\", \"222\"],\n",
    "], columns=[\"num\", \"num_str\", \"three\"])\n",
    "\n",
    "df2 = pd.DataFrame([\n",
    "    [2, \"22\", \"2222\"],\n",
    "    [3, \"33\", \"3333\"],\n",
    "    [0, \"00\", \"0000\"]\n",
    "], columns=[\"num\", \"num_str\", \"four\"])\n",
    "\n",
    "df = pd.merge(df1, df2, on=\"num\", how=\"outer\", sort=True, suffixes=(\"\", \"___\"))\n",
    "df[\"num_str\"].update(df[\"num_str___\"])\n",
    "df = df[[x for x in df.columns if not x.endswith(\"___\")]]\n",
    "\n",
    "#    num num_str three  four\n",
    "# 0    0      00   NaN  0000\n",
    "# 1    1      11   111   NaN\n",
    "# 2    2      22   222  2222\n",
    "# 3    3      33   NaN  3333\n"
   ]
  },
  {
   "cell_type": "markdown",
   "metadata": {},
   "source": [
    "## list から dict に変換する\n"
   ]
  },
  {
   "cell_type": "code",
   "execution_count": null,
   "metadata": {},
   "outputs": [],
   "source": [
    "# そのままでいい\n",
    "\n",
    "something_list = [\n",
    "    [\"name\", \"taro\"],\n",
    "    [\"age\", 16],\n",
    "    [\"from\", \"japan\"]\n",
    "]\n",
    "\n",
    "print(dict(something_list))  # {'name': 'taro', 'age': 16, 'from': 'japan'}\n"
   ]
  },
  {
   "cell_type": "markdown",
   "metadata": {},
   "source": [
    "## SQLite3 で日本語カラム名を使う\n"
   ]
  },
  {
   "cell_type": "code",
   "execution_count": null,
   "metadata": {},
   "outputs": [],
   "source": [
    "import sqlite3\n",
    "import pandas\n",
    "\n",
    "conn = sqlite3.connect(\":memory:\")\n",
    "cur = conn.cursor()\n",
    "\n",
    "# 日本語のテーブル名/カラム名は半角英数字記号で囲めばイケる（ただしピリオド・ハイフンは禁止）\n",
    "# こんなことしなくても日本語使える…？\n",
    "cur.execute(\"CREATE TABLE [ホゲテーブル] ([年齢] INT NOT NULL PRIMARY KEY)\")\n",
    "cur.execute(\"INSERT INTO [ホゲテーブル] ([年齢]) VALUES(12)\")\n",
    "\n",
    "conn.commit()\n",
    "\n",
    "print(pandas.read_sql(\"SELECT [年齢] FROM [ホゲテーブル]\", conn))\n",
    "\n",
    "conn.close()\n"
   ]
  },
  {
   "cell_type": "markdown",
   "metadata": {},
   "source": [
    "## 正規表現いろいろ\n"
   ]
  },
  {
   "cell_type": "code",
   "execution_count": null,
   "metadata": {},
   "outputs": [],
   "source": [
    "import re\n",
    "\n",
    "raw_text = \"あいうえお漢字something12345**++\"\n",
    "\n",
    "print(\"アルファベットを消す\", re.sub(\"[a-z]\", \"\", raw_text))\n",
    "print(\"アルファベットを残す\", re.sub(\"[^a-z]\", \"\", raw_text))\n",
    "print(\"指定した記号を消す\", re.sub(\"[oお5]\", \"\", raw_text))\n",
    "print(\"数字を消す\", re.sub(\"[0-9]\", \"\", raw_text))\n",
    "print(\"数字を残す\", re.sub(\"[^0-9]\", \"\", raw_text))\n",
    "print(\"ひらがなを消す\", re.sub(\"[あ-ん]\", \"\", raw_text))\n",
    "\n",
    "# アルファベットを消す あいうえお漢字12345**++\n",
    "# アルファベットを残す something\n",
    "# 指定した記号を消す あいうえ漢字smething1234**++\n",
    "# 数字を消す あいうえお漢字something**++\n",
    "# 数字を残す 12345\n",
    "# ひらがなを消す 漢字something12345**++\n"
   ]
  },
  {
   "cell_type": "markdown",
   "metadata": {},
   "source": [
    "## SQLite3 の構文など\n",
    "\n",
    "Python の Sqlite3 で使う SQL 構文。基本的に予約語は大文字で表記すると処理が早くなるらしい。\n"
   ]
  },
  {
   "cell_type": "code",
   "execution_count": null,
   "metadata": {
    "vscode": {
     "languageId": "sql"
    }
   },
   "outputs": [],
   "source": [
    "-- テーブル作成\n",
    "CREATE TABLE table_name1(column1 INTEGER, column2 TEXT);\n",
    "CREATE TABLE IF NOT EXISTS table_name2(column1 INTEGER UNIQUE PRIMARY KEY, column2 TEXT); /* すでにテーブルが存在するときはスルー */\n",
    "CREATE TABLE IF NOT EXISTS table_name3(column1 INTEGER NOT NULL UNIQUE PRIMARY KEY, column2 TEXT); /* Null値・主キー・重複の扱いを指定する */\n",
    "\n",
    "-- 挿入\n",
    "INSERT INTO table_name(column1, column2) VALUES(10, 10); /* 基本的な挿入 */\n",
    "INSERT OR IGNORE INTO table_name(column1, column2) VALUES(10, 10); /* UNIQUEなどで挿入できないときはスルー */\n",
    "\n",
    "-- 取得\n",
    "SELECT column1,column2 FROM table_name WHERE column1 == 10;\n",
    "SELECT column1,column2 FROM table_name LIMIT 10; /* 先頭からn行のみを取得すると制限する */\n",
    "SELECT column1 FROM main WHERE column1 IS NOT NULL; /* NULL以外を取得する(演算子[!=]は使えない) */\n",
    "SELECT column1 FROM main ORDER BY column1 DESC; /* 降順 */\n",
    "SELECT column1 FROM main ORDER BY column1 ASC; /* 昇順 */\n",
    "SELECT * FROM (\n",
    "    SELECT row_index,dense_rank() OVER(ORDER BY date_str DESC) AS rank_result FROM main ORDER BY row_index DESC\n",
    ") WHERE rank_result <= 5; /* 最新n行を取得する, DENSE_RANKは同率n位を許すランク付け関数, SELECTは重ねて使う */\n",
    "SELECT column1 FROM main WHERE column1 IN (1,2,3) /* 複数条件をinで表現する */\n",
    "SELECT column1 FROM main WHERE main.column1 IN (SELECT column2 FROM sub); /* ほかテーブルを利用して除外/抽出をする */\n",
    "\n",
    "-- 削除\n",
    "DELETE FROM table_name WHERE column1 == 1234; /* 表内のデータを削除する。条件指定できる。遅い。 */\n",
    "TRUNCATE TABLE table_name; /* 表内のデータを全削除する。早い。 */\n",
    "DROP TABLE table_name; /* 表内のオブジェクトを完全に削除する。 */\n",
    "\n",
    "-- 更新\n",
    "UPDATE table_name SET column1 = 222 WHERE column1 = 10000; /* 基本的な更新 */\n",
    "UPDATE table_name SET column1 = ?, column2 = ? WHERE column3 = 10; /* 2次元タプルで数値を当てはめる */\n",
    "UPDATE table_name SET column1 = REPLACE(column1, \"before\", \"after\"); /* 文字列の一括置き換え */\n",
    "\n",
    "-- データベース内のテーブルの一覧を取得する\n",
    "SELECT name FROM sqlite_master WHERE type=\"table\";\n",
    "SELECT * FROM sqlite_master; /* テーブル名の他にもSQL構文(CREATE TABLE...)を取得することもできる */\n",
    "\n",
    "-- スキーマ情報（カラム名やデータ型など）を取得する\n",
    "PRAGMA table_info(table_name); /* cid, name, type, notnull, default_value, primary_key */\n",
    "\n",
    "-- 日別週別で集計する\n",
    "-- 集計に使える集合関数は[SUM, MAX, MIN, AVG, COUNT] いずれもNullを集計対象外とする\n",
    "-- new_dateにあたるカラムはどんな名前を使っても良い\n",
    "-- 構文としては「Select 対象行,集計行 From テーブル Group By 集計行;」となっている\n",
    "SELECT count(num) as count_num, STRFTIME(\"%H:%M:%S\", _date) AS new_date FROM table1 GROUP BY new_date; /* 秒別 */\n",
    "SELECT count(num) as count_num, STRFTIME(\"%H:%M\", _date) AS new_date FROM table1 GROUP BY new_date; /* 分別 */\n",
    "SELECT count(num) as count_num, STRFTIME(\"%H\", _date) AS new_date FROM table1 GROUP BY new_date; /* 時間別 */\n",
    "SELECT AVG(num) AS ave_num, STRFTIME('%Y-%m-%d', _date) AS new_date FROM table1 GROUP BY new_date; /* 日別平均 */\n",
    "SELECT MIN(num) AS min_num, STRFTIME('%Y-%W', _date) AS new_date FROM table1 GROUP BY new_date; /* 週の最低(対象年の第何周目かで集計する) */\n",
    "SELECT COUNT(num) AS count_num, STRFTIME('%Y-%m', _date) AS new_date FROM table1 GROUP BY new_date; /* 月別個数 */\n"
   ]
  },
  {
   "cell_type": "markdown",
   "metadata": {},
   "source": [
    "## ハッシュ値を求める\n"
   ]
  },
  {
   "cell_type": "code",
   "execution_count": 2,
   "metadata": {},
   "outputs": [
    {
     "name": "stdout",
     "output_type": "stream",
     "text": [
      "{'sha3_384', 'sha256', 'md5', 'blake2b', 'sha1', 'sha3_512', 'sha3_224', 'shake_128', 'blake2s', 'sha384', 'sha512', 'sha224', 'shake_256', 'sha3_256'}\n",
      "md5 a7f5f35426b927411fc9231b56382173\n",
      "sha224 f8fef02326b9f70d67c68faefc4d41b3fd039d77e11643bccab9d47a\n",
      "sha256 18885f27b5af9012df19e496460f9294d5ab76128824c6f993787004f6d9a7db\n",
      "sha512 fd9d4d5b7a8a8fae6b1bc099b799110f7e4338606e2610f5d9506a4346e0c3bfbc525f4eed1e05aa8c6f46b8efff526ec48b500928a1b341ade5a7855f533932\n",
      "sha256 2f51ac3df8b54899eff67e7fbe5d367c52501aa220308c81236a0e34bc7f39ac\n"
     ]
    }
   ],
   "source": [
    "import hashlib\n",
    "\n",
    "print(hashlib.algorithms_guaranteed)  # 利用可能なハッシュ化アルゴリズム\n",
    "\n",
    "text1 = \"Python\"\n",
    "\n",
    "print(\"md5\", hashlib.md5(text1.encode()).hexdigest())  # 偶発的な衝突確率は2e-64だが、脆弱なハッシュ関数である。\n",
    "print(\"sha224\", hashlib.sha224(text1.encode()).hexdigest())\n",
    "print(\"sha256\", hashlib.sha256(text1.encode()).hexdigest())  # セキュリティ目的で利用するにはSHA256/SHA512を使うことが望ましい。\n",
    "print(\"sha512\", hashlib.sha512(text1.encode()).hexdigest())\n",
    "\n",
    "with open(\"./dir/hoge.txt\", mode=\"rb\") as file:  # rb -> バイナリ読み込みで開く\n",
    "    print(\"sha256\", hashlib.sha256(file.read()).hexdigest())\n",
    "\n",
    "# {'sha3_384', 'sha256', 'md5', 'blake2b', 'sha1', 'sha3_512', 'sha3_224', 'shake_128', 'blake2s', 'sha384', 'sha512', 'sha224', 'shake_256', 'sha3_256'}\n",
    "# md5 a7f5f35426b927411fc9231b56382173\n",
    "# sha224 f8fef02326b9f70d67c68faefc4d41b3fd039d77e11643bccab9d47a\n",
    "# sha256 18885f27b5af9012df19e496460f9294d5ab76128824c6f993787004f6d9a7db\n",
    "# sha512 fd9d4d5b7a8a8fae6b1bc099b799110f7e4338606e2610f5d9506a4346e0c3bfbc525f4eed1e05aa8c6f46b8efff526ec48b500928a1b341ade5a7855f533932\n",
    "# sha256 2f51ac3df8b54899eff67e7fbe5d367c52501aa220308c81236a0e34bc7f39ac\n"
   ]
  },
  {
   "cell_type": "markdown",
   "metadata": {},
   "source": [
    "## /n とかを削除\n"
   ]
  },
  {
   "cell_type": "code",
   "execution_count": 2,
   "metadata": {},
   "outputs": [
    {
     "name": "stdout",
     "output_type": "stream",
     "text": [
      "['22/09/30', '15:15']\n"
     ]
    }
   ],
   "source": [
    "text = \"22/09/30 15:15\"\n",
    "\n",
    "print(text.split())  # ['22/09/30', '15:15']\n"
   ]
  },
  {
   "cell_type": "markdown",
   "metadata": {},
   "source": [
    "## 日付を扱う\n",
    "\n",
    "以下、全て 0 埋めした 10 進数\n",
    "\n",
    "例：2022-10-02 20:45:58.870211\n",
    "\n",
    "| 書式 | 意味               | 例     |\n",
    "| ---- | ------------------ | ------ |\n",
    "| %d   | 月中の日にち       | 02     |\n",
    "| %m   | 月                 | 10     |\n",
    "| %y   | 西暦の下 2 桁      | 22     |\n",
    "| %Y   | 西暦 4 桁          | 2022   |\n",
    "| %H   | 時 （24 時間表記） | 20     |\n",
    "| %I   | 時 （12 時間表記） | 08     |\n",
    "| %M   | 分                 | 45     |\n",
    "| %S   | 秒                 | 58     |\n",
    "| %f   | マイクロ秒（6 桁） | 870211 |\n"
   ]
  },
  {
   "cell_type": "code",
   "execution_count": 1,
   "metadata": {},
   "outputs": [
    {
     "name": "stdout",
     "output_type": "stream",
     "text": [
      "2022/24/06\n",
      "22/24/06\n",
      "2022-09-30 15:00:00\n"
     ]
    }
   ],
   "source": [
    "from datetime import datetime as dt\n",
    "\n",
    "print(dt.strftime(dt.now(), \"%Y/%M/%d\"))  # 2022/38/02\n",
    "\n",
    "print(dt.strftime(dt.today(), \"%y/%M/%d\"))  # 22/38/02\n",
    "\n",
    "print(dt.strptime(\"22/09/30 15:00\", \"%y/%m/%d %H:%M\"))  # 2022-09-30 15:00:00\n"
   ]
  },
  {
   "cell_type": "markdown",
   "metadata": {},
   "source": [
    "## エラーを表示\n"
   ]
  },
  {
   "cell_type": "code",
   "execution_count": 7,
   "metadata": {},
   "outputs": [
    {
     "name": "stderr",
     "output_type": "stream",
     "text": [
      "Traceback (most recent call last):\n",
      "  File \"C:\\Users\\Haya\\AppData\\Local\\Temp/ipykernel_6764/3739262623.py\", line 4, in <module>\n",
      "    a = 10 / 0\n",
      "ZeroDivisionError: division by zero\n"
     ]
    }
   ],
   "source": [
    "import traceback\n",
    "\n",
    "try:\n",
    "    a = 10 / 0\n",
    "except:\n",
    "    traceback.print_exc()\n",
    "\n",
    "# Traceback (most recent call last):\n",
    "#  File \"C:\\Users\\Hayaaaaaa\\AppData\\Local\\Temp/ipykernel_6764/3739262623.py\", line 4, in <module>\n",
    "#    a = 10 / 0\n",
    "# ZeroDivisionError: division by zero\n"
   ]
  },
  {
   "cell_type": "markdown",
   "metadata": {},
   "source": [
    "## Sklearn を使う\n"
   ]
  },
  {
   "cell_type": "code",
   "execution_count": 16,
   "metadata": {},
   "outputs": [
    {
     "name": "stdout",
     "output_type": "stream",
     "text": [
      "0.9666666666666667\n"
     ]
    },
    {
     "name": "stderr",
     "output_type": "stream",
     "text": [
      "c:\\Users\\Haya\\anaconda3\\lib\\site-packages\\sklearn\\svm\\_base.py:985: ConvergenceWarning: Liblinear failed to converge, increase the number of iterations.\n",
      "  warnings.warn(\"Liblinear failed to converge, increase \"\n"
     ]
    },
    {
     "data": {
      "image/png": "[encoded data removed]",
      "text/plain": [
       "<Figure size 216x216 with 2 Axes>"
      ]
     },
     "metadata": {
      "needs_background": "light"
     },
     "output_type": "display_data"
    }
   ],
   "source": [
    "from sklearn.ensemble import AdaBoostClassifier, AdaBoostRegressor, GradientBoostingClassifier, GradientBoostingRegressor, RandomForestClassifier, RandomForestRegressor\n",
    "from sklearn.linear_model import LogisticRegression, SGDClassifier, SGDRegressor\n",
    "from sklearn.metrics import classification_report, confusion_matrix, f1_score, precision_score\n",
    "from sklearn.model_selection import train_test_split\n",
    "from sklearn.naive_bayes import GaussianNB\n",
    "from sklearn.neighbors import KNeighborsClassifier, KNeighborsRegressor\n",
    "from sklearn.neural_network import MLPClassifier, MLPRegressor\n",
    "from sklearn.svm import SVC, SVR, LinearSVC, LinearSVR\n",
    "from sklearn.tree import DecisionTreeClassifier, DecisionTreeRegressor\n",
    "from sklearn.datasets import load_iris\n",
    "\n",
    "import pandas as pd\n",
    "import numpy as np\n",
    "import seaborn as sns\n",
    "from matplotlib import pyplot as plt\n",
    "\n",
    "iris = load_iris()\n",
    "\n",
    "X_train, X_test, y_train, y_test = train_test_split(\n",
    "    iris.data,\n",
    "    iris.target,\n",
    "    test_size=0.2,\n",
    ")\n",
    "\n",
    "model = LinearSVC()\n",
    "model.fit(X_train, y_train)\n",
    "y_pred = model.predict(X_test)\n",
    "\n",
    "print(precision_score(y_test, y_pred, average=\"micro\"))\n",
    "\n",
    "plt.figure(figsize=(3, 3))\n",
    "cm = confusion_matrix(y_test, y_pred)\n",
    "ax = sns.heatmap(cm, annot=True, cmap='Blues', linewidth=0.3)\n",
    "ax.set_xlabel(\"Predicted\", fontsize=12)\n",
    "ax.set_ylabel(\"Accrual\", fontsize=12)\n",
    "plt.show()\n"
   ]
  },
  {
   "cell_type": "markdown",
   "metadata": {},
   "source": [
    "## 単調増加・減少を判定する\n"
   ]
  },
  {
   "cell_type": "code",
   "execution_count": 1,
   "metadata": {},
   "outputs": [
    {
     "name": "stdout",
     "output_type": "stream",
     "text": [
      "True\n",
      "True\n",
      "False\n"
     ]
    }
   ],
   "source": [
    "import numpy as np\n",
    "\n",
    "a = [1, 2, 3, 4, 5]\n",
    "b = [9, 8, 7, 6, 5]\n",
    "c = [1, 5, 3, 6, 4]\n",
    "\n",
    "\n",
    "def is_monotonic(x):\n",
    "    diff = np.diff(x)\n",
    "    return np.all(diff <= 0) or np.all(diff >= 0)\n",
    "\n",
    "\n",
    "print(is_monotonic(a))  # True\n",
    "print(is_monotonic(b))  # True\n",
    "print(is_monotonic(c))  # False\n"
   ]
  },
  {
   "cell_type": "markdown",
   "metadata": {},
   "source": [
    "## グラフを表示する\n"
   ]
  },
  {
   "cell_type": "code",
   "execution_count": 34,
   "metadata": {},
   "outputs": [
    {
     "data": {
      "image/svg+xml": "<?xml version=\"1.0\" encoding=\"UTF-8\" standalone=\"no\"?>\n<!DOCTYPE svg PUBLIC \"-//W3C//DTD SVG 1.1//EN\"\n \"http://www.w3.org/Graphics/SVG/1.1/DTD/svg11.dtd\">\n<!-- Generated by graphviz version 2.50.0 (20211204.2007)\n -->\n<!-- Pages: 1 -->\n<svg width=\"626pt\" height=\"279pt\"\n viewBox=\"0.00 0.00 626.17 279.23\" xmlns=\"http://www.w3.org/2000/svg\" xmlns:xlink=\"http://www.w3.org/1999/xlink\">\n<g id=\"graph0\" class=\"graph\" transform=\"scale(1 1) rotate(0) translate(4 275.23)\">\n<polygon fill=\"white\" stroke=\"transparent\" points=\"-4,4 -4,-275.23 622.17,-275.23 622.17,4 -4,4\"/>\n<g id=\"clust1\" class=\"cluster\">\n<title>cluster_1</title>\n<polygon fill=\"none\" stroke=\"green\" points=\"441.17,-8 441.17,-166 610.17,-166 610.17,-8 441.17,-8\"/>\n</g>\n<g id=\"clust2\" class=\"cluster\">\n<title>cluster_11</title>\n<polygon fill=\"none\" stroke=\"orange\" stroke-width=\"3\" points=\"532.17,-16 532.17,-158 602.17,-158 602.17,-16 532.17,-16\"/>\n</g>\n<!-- Node1 -->\n<g id=\"node1\" class=\"node\">\n<title>Node1</title>\n<polygon fill=\"none\" stroke=\"black\" points=\"54,-114 0,-114 0,-60 54,-60 54,-114\"/>\n<text text-anchor=\"middle\" x=\"27\" y=\"-83.3\" font-family=\"MS Gothic\" font-size=\"14.00\">Node1</text>\n</g>\n<!-- Node2 -->\n<g id=\"node2\" class=\"node\">\n<title>Node2</title>\n<polygon fill=\"red\" stroke=\"red\" points=\"254.56,-186.92 200.42,-186.92 183.69,-238.46 166.96,-186.92 112.81,-186.92 156.62,-155.08 139.88,-103.54 183.69,-135.39 227.49,-103.54 210.76,-155.08 254.56,-186.92\"/>\n<text text-anchor=\"middle\" x=\"183.69\" y=\"-167.3\" font-family=\"MS Gothic\" font-size=\"14.00\" fill=\"white\">Node2</text>\n</g>\n<!-- Node1&#45;&gt;Node2 -->\n<g id=\"edge1\" class=\"edge\">\n<title>Node1&#45;&gt;Node2</title>\n<path fill=\"none\" stroke=\"green\" d=\"M54.24,-101.25C79.49,-114.96 117.88,-135.81 146.12,-151.14\"/>\n<polygon fill=\"green\" stroke=\"green\" points=\"144.82,-154.42 155.27,-156.11 148.16,-148.27 144.82,-154.42\"/>\n<text text-anchor=\"middle\" x=\"83.5\" y=\"-124.8\" font-family=\"MS Gothic\" font-size=\"14.00\">0.8</text>\n</g>\n<!-- Node2&#45;&gt;Node2 -->\n<g id=\"edge7\" class=\"edge\">\n<title>Node2&#45;&gt;Node2</title>\n<path fill=\"none\" stroke=\"black\" d=\"M169.77,-195.87C160.2,-223.93 164.84,-256.23 183.69,-256.23 200.4,-256.23 205.94,-230.84 200.31,-205.51\"/>\n<polygon fill=\"black\" stroke=\"black\" points=\"203.67,-204.55 197.6,-195.87 196.93,-206.44 203.67,-204.55\"/>\n<text text-anchor=\"middle\" x=\"183.69\" y=\"-260.03\" font-family=\"MS Gothic\" font-size=\"14.00\">自分自身</text>\n</g>\n<!-- ノード３ -->\n<g id=\"node3\" class=\"node\">\n<title>ノード３</title>\n<ellipse fill=\"none\" stroke=\"blue\" stroke-width=\"3\" cx=\"362.77\" cy=\"-87\" rx=\"49.29\" ry=\"49.29\"/>\n<text text-anchor=\"middle\" x=\"362.77\" y=\"-83.3\" font-family=\"MS Gothic\" font-size=\"14.00\">ノード３</text>\n</g>\n<!-- Node2&#45;&gt;ノード３ -->\n<g id=\"edge2\" class=\"edge\">\n<title>Node2&#45;&gt;ノード３</title>\n<path fill=\"none\" stroke=\"black\" stroke-dasharray=\"5,2\" d=\"M213.93,-157.13C239.57,-144.97 277.49,-126.98 308.5,-112.27\"/>\n<polygon fill=\"black\" stroke=\"black\" points=\"310.35,-115.27 317.88,-107.82 307.35,-108.94 310.35,-115.27\"/>\n<text text-anchor=\"middle\" x=\"283.87\" y=\"-132.8\" font-family=\"MS Gothic\" font-size=\"14.00\">0.4</text>\n</g>\n<!-- ノード３&#45;&gt;Node1 -->\n<g id=\"edge3\" class=\"edge\">\n<title>ノード３&#45;&gt;Node1</title>\n<path fill=\"none\" stroke=\"black\" stroke-width=\"3\" d=\"M313.42,-83.18C294.96,-81.89 273.7,-80.63 254.37,-80 191.57,-77.96 175.78,-77.42 113,-80 96.89,-80.66 79.11,-82.03 63.99,-83.38\"/>\n<polygon fill=\"black\" stroke=\"black\" stroke-width=\"3\" points=\"63.64,-79.9 54.01,-84.3 64.29,-86.87 63.64,-79.9\"/>\n<text text-anchor=\"middle\" x=\"183.69\" y=\"-83.8\" font-family=\"MS Gothic\" font-size=\"14.00\">0.2</text>\n</g>\n<!-- Node4 -->\n<g id=\"node4\" class=\"node\">\n<title>Node4</title>\n<polygon fill=\"none\" stroke=\"black\" points=\"503.17,-114 449.17,-114 449.17,-60 503.17,-60 503.17,-114\"/>\n<text text-anchor=\"middle\" x=\"476.17\" y=\"-83.3\" font-family=\"MS Gothic\" font-size=\"14.00\">Node4</text>\n</g>\n<!-- ノード３&#45;&gt;Node4 -->\n<g id=\"edge4\" class=\"edge\">\n<title>ノード３&#45;&gt;Node4</title>\n<path fill=\"none\" stroke=\"black\" d=\"M412.31,-87C421.31,-87 430.57,-87 439.11,-87\"/>\n<polygon fill=\"black\" stroke=\"black\" points=\"439.13,-90.5 449.13,-87 439.13,-83.5 439.13,-90.5\"/>\n</g>\n<!-- Node5 -->\n<g id=\"node5\" class=\"node\">\n<title>Node5</title>\n<polygon fill=\"none\" stroke=\"black\" points=\"594.17,-78 540.17,-78 540.17,-24 594.17,-24 594.17,-78\"/>\n<text text-anchor=\"middle\" x=\"567.17\" y=\"-47.3\" font-family=\"MS Gothic\" font-size=\"14.00\">Node5</text>\n</g>\n<!-- Node4&#45;&gt;Node5 -->\n<g id=\"edge5\" class=\"edge\">\n<title>Node4&#45;&gt;Node5</title>\n<path fill=\"none\" stroke=\"black\" d=\"M503.39,-76.39C511.99,-72.91 521.69,-68.99 530.85,-65.28\"/>\n<polygon fill=\"black\" stroke=\"black\" points=\"532.17,-68.53 540.13,-61.53 529.55,-62.04 532.17,-68.53\"/>\n</g>\n<!-- Node6 -->\n<g id=\"node6\" class=\"node\">\n<title>Node6</title>\n<polygon fill=\"none\" stroke=\"black\" points=\"594.17,-150 540.17,-150 540.17,-96 594.17,-96 594.17,-150\"/>\n<text text-anchor=\"middle\" x=\"567.17\" y=\"-119.3\" font-family=\"MS Gothic\" font-size=\"14.00\">Node6</text>\n</g>\n<!-- Node4&#45;&gt;Node6 -->\n<g id=\"edge6\" class=\"edge\">\n<title>Node4&#45;&gt;Node6</title>\n<path fill=\"none\" stroke=\"black\" d=\"M503.39,-97.61C511.99,-101.09 521.69,-105.01 530.85,-108.72\"/>\n<polygon fill=\"black\" stroke=\"black\" points=\"529.55,-111.96 540.13,-112.47 532.17,-105.47 529.55,-111.96\"/>\n</g>\n</g>\n</svg>\n",
      "text/plain": [
       "<graphviz.graphs.Digraph at 0x17dcf2548e0>"
      ]
     },
     "metadata": {},
     "output_type": "display_data"
    },
    {
     "data": {
      "image/png": "[encoded data removed]",
      "text/plain": [
       "<IPython.core.display.Image object>"
      ]
     },
     "execution_count": 34,
     "metadata": {},
     "output_type": "execute_result"
    }
   ],
   "source": [
    "from graphviz import Digraph\n",
    "from IPython.display import Image\n",
    "\n",
    "G = Digraph(format=\"png\")  # 拡張子の設定 (pdf/png/svgなど)\n",
    "\n",
    "# 全ノードに対する設定\n",
    "G.attr(\"node\", shape=\"square\", color=\"black\", fontname='MS Gothic')\n",
    "G.attr(\"graph\", rankdir=\"LR\", fontname='MS Gothic')\n",
    "G.attr(\"edge\", fontname='MS Gothic')\n",
    "# shape -> square 四角形 / cicle 円\n",
    "# fontname -> 日本語を利用するためには日本語対応フォントを指定する(\"Meiryo\", \"Yu Gothic\", \"MS Mincho\"など)\n",
    "\n",
    "# エッジ/辺の設定\n",
    "G.edge(\"Node1\", \"Node2\", label=\"0.8\", color=\"green\")\n",
    "G.edge(\"Node2\", \"ノード３\", label=\"0.4\", style='dashed')  # 破線\n",
    "G.edge(\"ノード３\", \"Node1\", label=\"0.2\", penwidth=\"3\")  # 太く\n",
    "G.edge(\"ノード３\", \"Node4\")\n",
    "G.edge(\"Node4\", \"Node5\")\n",
    "G.edge(\"Node4\", \"Node6\")\n",
    "G.edge(\"Node2\", \"Node2\", label=\"自分自身\")\n",
    "\n",
    "# ノード/頂点の設定\n",
    "G.node(\"ノード３\", shape=\"circle\", color=\"blue\", penwidth=\"3\")\n",
    "G.node(\"Node2\", shape=\"star\", style=\"filled\", color=\"red\", fontcolor=\"white\")\n",
    "\n",
    "# グループ化\n",
    "with G.subgraph(name=\"cluster_1\") as gc:  # 引数:nameには「cluster」から始まる名前を付ける\n",
    "    gc.attr(color=\"green\")\n",
    "    gc.node(\"Node4\")\n",
    "    with gc.subgraph(name=\"cluster_11\") as gcc:  # 引数:nameには「cluster」から始まる名前を付ける\n",
    "        gcc.attr(color=\"orange\", penwidth=\"3\")\n",
    "        gcc.node(\"Node5\")\n",
    "        gcc.node(\"Node6\")\n",
    "\n",
    "# Jupyterに表示\n",
    "display(G)\n",
    "\n",
    "# PNG/PDFに出力し、Jupyterに表示\n",
    "G.render(\"Digraph.gv\", cleanup=True)\n",
    "Image(filename='Digraph.gv.png')\n"
   ]
  },
  {
   "cell_type": "markdown",
   "metadata": {},
   "source": [
    "## モジュールを再読込する\n"
   ]
  },
  {
   "cell_type": "code",
   "execution_count": 15,
   "metadata": {},
   "outputs": [
    {
     "data": {
      "text/plain": [
       "<module 'sys' (built-in)>"
      ]
     },
     "execution_count": 15,
     "metadata": {},
     "output_type": "execute_result"
    }
   ],
   "source": [
    "import sys\n",
    "import importlib\n",
    "\n",
    "importlib.reload(sys)\n"
   ]
  },
  {
   "attachments": {},
   "cell_type": "markdown",
   "metadata": {},
   "source": [
    "## 多次元配列を n 次元から n-1 次元に変換する\n"
   ]
  },
  {
   "cell_type": "code",
   "execution_count": 16,
   "metadata": {},
   "outputs": [
    {
     "name": "stdout",
     "output_type": "stream",
     "text": [
      "[1, [1, 1], 2, 3, 3, 3, 4, 5, 6, 7]\n"
     ]
    }
   ],
   "source": [
    "import itertools\n",
    "\n",
    "hoge_list = [[1, [1, 1], 2], [3, 3, 3, 4], [5, 6, 7]]\n",
    "\n",
    "print(list(itertools.chain.from_iterable(hoge_list)))\n",
    "\n",
    "# [1, [1, 1], 2, 3, 3, 3, 4, 5, 6, 7]\n"
   ]
  },
  {
   "cell_type": "markdown",
   "metadata": {},
   "source": [
    "## リストから辞書型に変換（出現回数を取得する）\n"
   ]
  },
  {
   "cell_type": "code",
   "execution_count": 17,
   "metadata": {},
   "outputs": [
    {
     "name": "stdout",
     "output_type": "stream",
     "text": [
      "7\n",
      "dict_keys([1, 2, 3, 4, 5, 6, 7])\n",
      "4\n",
      "Counter({1: 4, 3: 3, 2: 1, 4: 1, 5: 1, 6: 1, 7: 1})\n"
     ]
    }
   ],
   "source": [
    "import collections\n",
    "\n",
    "hoge_list = [1, 1, 1, 1, 2, 3, 3, 3, 4, 5, 6, 7]\n",
    "\n",
    "s = collections.Counter(hoge_list)\n",
    "print(len(s))  # 重複なしの要素数\n",
    "print(s.keys())  # 重複なしのリスト(setと同じ)\n",
    "print(s[1])  # [1]の個数\n",
    "print(s)\n",
    "\n",
    "# 7\n",
    "# dict_keys([1, 2, 3, 4, 5, 6, 7])\n",
    "# 4\n",
    "# Counter({1: 4, 3: 3, 2: 1, 4: 1, 5: 1, 6: 1, 7: 1})\n"
   ]
  },
  {
   "attachments": {},
   "cell_type": "markdown",
   "metadata": {},
   "source": [
    "## 合成音声に喋らせる\n"
   ]
  },
  {
   "cell_type": "code",
   "execution_count": 2,
   "metadata": {},
   "outputs": [],
   "source": [
    "# pip install pyttsx3\n",
    "\n",
    "import pyttsx3\n",
    "\n",
    "engine = pyttsx3.init()\n",
    "voices = engine.getProperty('voices')\n",
    "\n",
    "engine.setProperty('rate', 150)  # スピード：デフォルトは200\n",
    "engine.setProperty('volume', 5.0)  # 音量：デフォルトは1.0\n",
    "engine.setProperty('voice', voices[1].id)\n",
    "# 0は女声(機械的・日本語対応)、1は女声(なめらか・日本語不可)、2は男声(なめらか・日本語不可)\n",
    "\n",
    "engine.say(\"Pyttsx3 is a text-to-speech conversion library in Python.\")\n",
    "engine.runAndWait()\n",
    "\n",
    "engine.say(\"Pyttsx3はテキストから音声を生成するPythonライブラリです。\")\n",
    "engine.runAndWait()\n"
   ]
  },
  {
   "attachments": {},
   "cell_type": "markdown",
   "metadata": {},
   "source": [
    "## Whisper で文字起こし\n"
   ]
  },
  {
   "cell_type": "code",
   "execution_count": null,
   "metadata": {},
   "outputs": [],
   "source": [
    "import whisper\n",
    "\n",
    "model = whisper.load_model(\"base\")\n",
    "result = model.transcribe(\"C:\\hoge.mp3\")\n",
    "print(result[\"text\"])\n"
   ]
  },
  {
   "attachments": {},
   "cell_type": "markdown",
   "metadata": {},
   "source": [
    "## Pandas で Google スプレッドシートを読み込む\n",
    "\n",
    "「URL を知っている人に公開する」の設定になっているシートのみ有効な方法\n"
   ]
  },
  {
   "cell_type": "code",
   "execution_count": null,
   "metadata": {},
   "outputs": [],
   "source": [
    "import pandas as pd\n",
    "\n",
    "SHEET_ID = \"something worksheet\"\n",
    "SHEET_NAME = \"something table\"\n",
    "url = f'https://docs.google.com/spreadsheets/d/{SHEET_ID}/gviz/tq?tqx=out:csv&sheet={SHEET_NAME}'\n",
    "df = pd.read_csv(url)\n",
    "df.head()\n"
   ]
  },
  {
   "attachments": {},
   "cell_type": "markdown",
   "metadata": {},
   "source": [
    "## RAM/CPU の使用率を\n"
   ]
  },
  {
   "cell_type": "code",
   "execution_count": 1,
   "metadata": {},
   "outputs": [
    {
     "name": "stdout",
     "output_type": "stream",
     "text": [
      "82.8\n",
      "17061679104\n",
      "14134255616\n",
      "2927423488\n",
      "0.0\n"
     ]
    }
   ],
   "source": [
    "import psutil\n",
    "\n",
    "print(psutil.virtual_memory().percent)   # 物理メモリの使用率\n",
    "print(psutil.virtual_memory().total)     # 物理メモリの容量\n",
    "print(psutil.virtual_memory().used)      # 物理メモリの使用量\n",
    "print(psutil.virtual_memory().available)  # 物理メモリの空き容量\n",
    "print(psutil.cpu_percent())              # CPUの使用率\n"
   ]
  },
  {
   "attachments": {},
   "cell_type": "markdown",
   "metadata": {},
   "source": [
    "## Jupyter ノートブックにおいて、URL を吐き出す\n"
   ]
  },
  {
   "cell_type": "code",
   "execution_count": 3,
   "metadata": {},
   "outputs": [
    {
     "data": {
      "text/html": [
       "<a href=\"https://google.co.jp\">Link to Google</a>"
      ],
      "text/plain": [
       "<IPython.core.display.HTML object>"
      ]
     },
     "metadata": {},
     "output_type": "display_data"
    }
   ],
   "source": [
    "from IPython.core.display import display, HTML\n",
    "\n",
    "display(HTML(\"\"\"<a href=\"https://google.co.jp\">Link to Google</a>\"\"\"))\n"
   ]
  },
  {
   "attachments": {},
   "cell_type": "markdown",
   "metadata": {},
   "source": [
    "## HH:MM:SS を秒数換算する\n"
   ]
  },
  {
   "cell_type": "code",
   "execution_count": 12,
   "metadata": {},
   "outputs": [
    {
     "name": "stdout",
     "output_type": "stream",
     "text": [
      "7200\n",
      "52200\n",
      "7200\n",
      "52200\n"
     ]
    }
   ],
   "source": [
    "from itertools import product\n",
    "\n",
    "# この関数でできる\n",
    "\n",
    "\n",
    "def HH_MM_SS_2sec(t) -> int:\n",
    "    return sum([a * b for a, b in zip([3600, 60, 1], map(int, t.split(':')))])\n",
    "\n",
    "\n",
    "# 実行回数が多い場合、ハッシュテーブルを作っておくのが良い（単体で見れば7倍の高速化になる）\n",
    "TIME_TABLE = dict()\n",
    "for h, m, s in product(range(25), range(60), range(60)):\n",
    "    TIME_TABLE[\"{:0>2}:{:0>2}:{:0>2}\".format(h, m, s)] = h * 3600 + m * 60 + s\n",
    "\n",
    "print(HH_MM_SS_2sec(\"02:00:00\"))  # 7200\n",
    "print(HH_MM_SS_2sec(\"14:30:00\"))  # 52200\n",
    "print(TIME_TABLE[\"02:00:00\"])  # 7200\n",
    "print(TIME_TABLE[\"14:30:00\"])  # 52200\n"
   ]
  }
 ],
 "metadata": {
  "kernelspec": {
   "display_name": "base",
   "language": "python",
   "name": "python3"
  },
  "language_info": {
   "codemirror_mode": {
    "name": "ipython",
    "version": 3
   },
   "file_extension": ".py",
   "mimetype": "text/x-python",
   "name": "python",
   "nbconvert_exporter": "python",
   "pygments_lexer": "ipython3",
   "version": "3.8.8"
  },
  "orig_nbformat": 4,
  "vscode": {
   "interpreter": {
    "hash": "522dc22bd35485212c1956e4239ed25a4af1c223deee74c6cc0f473d1091d07c"
   }
  }
 },
 "nbformat": 4,
 "nbformat_minor": 2
}
